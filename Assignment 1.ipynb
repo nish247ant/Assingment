{
 "cells": [
  {
   "cell_type": "code",
   "execution_count": null,
   "id": "d3e895d3-35fd-4986-8c90-f88147bf6d40",
   "metadata": {},
   "outputs": [],
   "source": [
    "Q1. Explain with an example each when to use a for loop and a while loop."
   ]
  },
  {
   "cell_type": "code",
   "execution_count": 2,
   "id": "c132a6e5-0a70-4017-8610-c3e77799501b",
   "metadata": {},
   "outputs": [
    {
     "name": "stdout",
     "output_type": "stream",
     "text": [
      "1\n",
      "2\n",
      "3\n"
     ]
    }
   ],
   "source": [
    "\"\"\"Ans1.1:-For Loop:-A for loop is a control flow statement that executes code repeatedly for a particular number of iterations. \n",
    "In this control flow statement, the keyword used is for. The for loop is used when the number of iterations is already known.\"\"\"\n",
    "#For example:-\n",
    "n = [1, 2, 3]  # Initialization\n",
    "for i in n:  # Condition and Updation\n",
    "    print(i)\n"
   ]
  },
  {
   "cell_type": "code",
   "execution_count": 1,
   "id": "7b46ce1d-8f8d-4c2d-8254-399e9ed0e1cd",
   "metadata": {},
   "outputs": [
    {
     "name": "stdout",
     "output_type": "stream",
     "text": [
      "1\n",
      "2\n",
      "3\n",
      "4\n",
      "5\n"
     ]
    }
   ],
   "source": [
    "\"\"\"Ans1.2:-A loop that executes a single statement or a group of statements for the given true condition. \n",
    "The keyword used to represent this loop is \"while\". A \"while\" loop is used when the number of iterations is unknown. The statement repeats itself till the boolean value becomes false.\n",
    "In a while loop, the condition is tested at the start, also known as the pre-test loop.\"\"\"\n",
    "#For example:-\n",
    "i = 1  # Initialization\n",
    "while i < 6:  # Condition\n",
    "    print(i)\n",
    "    i += 1  # Updation"
   ]
  },
  {
   "cell_type": "code",
   "execution_count": null,
   "id": "20481b2c-a7bb-44de-93bc-2c61aa4cde77",
   "metadata": {},
   "outputs": [],
   "source": [
    "Q2. Write a python program to print the sum and product of the first 10 natural numbers using for\n",
    "and while loop."
   ]
  },
  {
   "cell_type": "code",
   "execution_count": 11,
   "id": "3d48062f-3411-40eb-bae1-09b6f33012e6",
   "metadata": {},
   "outputs": [
    {
     "name": "stdout",
     "output_type": "stream",
     "text": [
      "55\n"
     ]
    }
   ],
   "source": [
    "#Ans2.1.1 python program to print the sum of the first 10 natural numbers using for loop.\n",
    "sum = 0\n",
    "\n",
    "for i in range(1, 11):\n",
    "    sum = sum + i\n",
    "    \n",
    "print(sum)"
   ]
  },
  {
   "cell_type": "code",
   "execution_count": 16,
   "id": "9581b3bb-cbaa-4726-9689-cbaa8ba7587e",
   "metadata": {},
   "outputs": [
    {
     "name": "stdout",
     "output_type": "stream",
     "text": [
      "The product of the first 10 natural numbers is: 3628800\n"
     ]
    }
   ],
   "source": [
    "#Ans2.1.2 python program to print the product of the first 10 natural numbers using for loop.\n",
    "product = 1\n",
    "\n",
    "for num in range(1, 11):\n",
    "    product *= num\n",
    "\n",
    "print(\"The product of the first 10 natural numbers is:\", product)"
   ]
  },
  {
   "cell_type": "code",
   "execution_count": 20,
   "id": "3ebe11bd-f28b-4281-a93b-f94ec8f408b9",
   "metadata": {},
   "outputs": [
    {
     "name": "stdin",
     "output_type": "stream",
     "text": [
      "Enter a number:  10\n"
     ]
    },
    {
     "name": "stdout",
     "output_type": "stream",
     "text": [
      "The result is 55\n"
     ]
    }
   ],
   "source": [
    "#Ans2.1.1 python program to print the sum of the first 10 natural numbers using while loop.\n",
    "# Sum of natural numbers up to num\n",
    "\n",
    "num = int(input(\"Enter a number: \")) \n",
    "\n",
    "if num < 0:\n",
    "   print(\"Please enter a positive number\")\n",
    "else:\n",
    "   sum = 0\n",
    "   \n",
    "   # use while loop to iterate until zero\n",
    "   while(num > 0):\n",
    "       sum += num\n",
    "       num -= 1\n",
    "   print(\"The result is\", sum)"
   ]
  },
  {
   "cell_type": "code",
   "execution_count": 21,
   "id": "56cb8b4a-dc51-4705-9fa2-6ae34cda8187",
   "metadata": {},
   "outputs": [
    {
     "name": "stdout",
     "output_type": "stream",
     "text": [
      "The product of the first 10 natural numbers is: 3628800\n"
     ]
    }
   ],
   "source": [
    "#Ans2.1.2 python program to print the product of the first 10 natural numbers using while loop.\n",
    "product = 1\n",
    "num = 1\n",
    "\n",
    "while num <= 10:\n",
    "    product *= num\n",
    "    num += 1\n",
    "\n",
    "print(\"The product of the first 10 natural numbers is:\", product)\n"
   ]
  },
  {
   "cell_type": "code",
   "execution_count": null,
   "id": "490c6ca5-fcdd-4b96-a3bb-22a882ad2b15",
   "metadata": {},
   "outputs": [],
   "source": [
    "Q3. Create a python program to compute the electricity bill for a household.\n",
    "The per-unit charges in rupees are as follows: For the first 100 units, the user will be charged Rs. 4.5 per\n",
    "unit, for the next 100 units, the user will be charged Rs. 6 per unit, and for the next 100 units, the user will\n",
    "be charged Rs. 10 per unit, After 300 units and above the user will be charged Rs. 20 per unit.\n",
    "You are required to take the units of electricity consumed in a month from the user as input.\n",
    "Your program must pass this test case: when the unit of electricity consumed by the user in a month is\n",
    "310, the total electricity bill should be 2250."
   ]
  },
  {
   "cell_type": "code",
   "execution_count": 1,
   "id": "6f8cebd5-2609-4247-9c5d-ec7bb4c41d6c",
   "metadata": {},
   "outputs": [
    {
     "name": "stdin",
     "output_type": "stream",
     "text": [
      "Please enter the number of units consumed in a month:  310\n"
     ]
    },
    {
     "name": "stdout",
     "output_type": "stream",
     "text": [
      "2250.0\n"
     ]
    }
   ],
   "source": [
    "#Ans3.\n",
    "units=int(input(\"Please enter the number of units consumed in a month: \"))\n",
    "if units<=100:\n",
    "    charge=units*4.5\n",
    "    print(charge)\n",
    "elif units<=200:\n",
    "    charge=100*4.5+ (units-100)*6\n",
    "    print(charge)\n",
    "elif units<=300:\n",
    "    charge=100*4.5+100*6+(units-200)*10\n",
    "    print(charge)\n",
    "else :\n",
    "    charge=100*4.5+100*6+100*10+(units-300)*20\n",
    "    print(charge)"
   ]
  },
  {
   "cell_type": "code",
   "execution_count": null,
   "id": "8d763a57-d60b-4edb-964e-36996d0081c4",
   "metadata": {},
   "outputs": [],
   "source": [
    "Q4. Create a list of numbers from 1 to 100. Use for loop and while loop to calculate the cube of each\n",
    "number and if the cube of that number is divisible by 4 or 5 then append that number in a list and print\n",
    "that list."
   ]
  },
  {
   "cell_type": "code",
   "execution_count": 4,
   "id": "bd802b1d-3905-4f5a-b6ef-431e886adc1f",
   "metadata": {},
   "outputs": [
    {
     "name": "stdout",
     "output_type": "stream",
     "text": [
      "[1000, 8000, 27000, 64000, 125000, 216000, 343000, 512000, 729000, 1000000]\n"
     ]
    }
   ],
   "source": [
    "#Ans4.\n",
    "L1=[]\n",
    "for i in range(1,101):\n",
    "    L1.append(i*i*i)\n",
    "L2=[]\n",
    "for j in L1:\n",
    "    if j%4==0 and j%5==0:\n",
    "     L2.append(j)\n",
    "print(L2)"
   ]
  },
  {
   "cell_type": "code",
   "execution_count": null,
   "id": "150843dd-fc82-4ef6-b6da-6d8525f948ab",
   "metadata": {},
   "outputs": [],
   "source": [
    "Q5. Write a program to filter count vowels in the below-given string.\n",
    "string = \"I want to become a data scientist\""
   ]
  },
  {
   "cell_type": "code",
   "execution_count": 4,
   "id": "c732a1c1-9023-4e86-878e-b1f1cdf669f8",
   "metadata": {},
   "outputs": [
    {
     "name": "stdin",
     "output_type": "stream",
     "text": [
      "Please enter a string:  I want to be\n"
     ]
    },
    {
     "name": "stdout",
     "output_type": "stream",
     "text": [
      "The number of vowels in a string are: 0\n"
     ]
    }
   ],
   "source": [
    "#Ans5.\n",
    "def vowel_count(string):\n",
    "    vowels=\"aeiouAEIOU\"\n",
    "    count_vowel=0\n",
    "    for char in string:\n",
    "        if char in vowel:\n",
    "            count_vowels=count_vowel+1\n",
    "    return count_vowel\n",
    "input_string=input(\"Please enter a string: \")\n",
    "result=vowel_count(input_string)\n",
    "print(\"The number of vowels in a string are:\",result)"
   ]
  },
  {
   "cell_type": "code",
   "execution_count": null,
   "id": "d1a0a775-e687-4d48-a73c-38e7e4de8c41",
   "metadata": {},
   "outputs": [],
   "source": []
  }
 ],
 "metadata": {
  "kernelspec": {
   "display_name": "Python 3 (ipykernel)",
   "language": "python",
   "name": "python3"
  },
  "language_info": {
   "codemirror_mode": {
    "name": "ipython",
    "version": 3
   },
   "file_extension": ".py",
   "mimetype": "text/x-python",
   "name": "python",
   "nbconvert_exporter": "python",
   "pygments_lexer": "ipython3",
   "version": "3.10.8"
  }
 },
 "nbformat": 4,
 "nbformat_minor": 5
}
